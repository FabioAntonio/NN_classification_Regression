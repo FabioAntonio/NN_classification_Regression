{
 "cells": [
  {
   "cell_type": "code",
   "execution_count": 1,
   "metadata": {},
   "outputs": [
    {
     "data": {
      "text/plain": [
       "array([[0, 0],\n",
       "       [0, 1],\n",
       "       [1, 0],\n",
       "       [1, 1]])"
      ]
     },
     "execution_count": 1,
     "metadata": {},
     "output_type": "execute_result"
    }
   ],
   "source": [
    "import tensorflow as tf\n",
    "import numpy as np\n",
    "\n",
    "#forecasters attributes\n",
    "x = np.array([[0,0], [0,1], [1,0], [1,1]])\n",
    "x"
   ]
  },
  {
   "cell_type": "code",
   "execution_count": 2,
   "metadata": {},
   "outputs": [
    {
     "data": {
      "text/plain": [
       "array([[1],\n",
       "       [0],\n",
       "       [0],\n",
       "       [1]])"
      ]
     },
     "execution_count": 2,
     "metadata": {},
     "output_type": "execute_result"
    }
   ],
   "source": [
    "y = np.array([[1], [0], [0], [1]])\n",
    "y"
   ]
  },
  {
   "cell_type": "code",
   "execution_count": 3,
   "metadata": {},
   "outputs": [],
   "source": [
    "neuronios_entrada = 2\n",
    "neuronios_oculta = 3\n",
    "neuronios_saida = 1"
   ]
  },
  {
   "cell_type": "code",
   "execution_count": 4,
   "metadata": {},
   "outputs": [
    {
     "name": "stdout",
     "output_type": "stream",
     "text": [
      "WARNING:tensorflow:From C:\\Users\\fabio\\Anaconda3\\lib\\site-packages\\tensorflow\\python\\framework\\op_def_library.py:263: colocate_with (from tensorflow.python.framework.ops) is deprecated and will be removed in a future version.\n",
      "Instructions for updating:\n",
      "Colocations handled automatically by placer.\n"
     ]
    }
   ],
   "source": [
    "#Weights\n",
    "w = {'oculta': tf.Variable(tf.random_normal([neuronios_entrada, neuronios_oculta]), name = 'w_oculta'),\n",
    "    'saida': tf.Variable(tf.random_normal([neuronios_oculta, neuronios_saida]), name = 'w_saida')}"
   ]
  },
  {
   "cell_type": "code",
   "execution_count": 5,
   "metadata": {},
   "outputs": [
    {
     "data": {
      "text/plain": [
       "dict"
      ]
     },
     "execution_count": 5,
     "metadata": {},
     "output_type": "execute_result"
    }
   ],
   "source": [
    "type(w)"
   ]
  },
  {
   "cell_type": "code",
   "execution_count": 7,
   "metadata": {},
   "outputs": [
    {
     "data": {
      "text/plain": [
       "tensorflow.python.ops.variables.RefVariable"
      ]
     },
     "execution_count": 7,
     "metadata": {},
     "output_type": "execute_result"
    }
   ],
   "source": [
    "type(w['oculta'])"
   ]
  },
  {
   "cell_type": "code",
   "execution_count": 8,
   "metadata": {},
   "outputs": [
    {
     "data": {
      "text/plain": [
       "<tf.Variable 'w_oculta:0' shape=(2, 3) dtype=float32_ref>"
      ]
     },
     "execution_count": 8,
     "metadata": {},
     "output_type": "execute_result"
    }
   ],
   "source": [
    "w['oculta']"
   ]
  },
  {
   "cell_type": "code",
   "execution_count": 9,
   "metadata": {},
   "outputs": [
    {
     "data": {
      "text/plain": [
       "<tf.Variable 'w_saida:0' shape=(3, 1) dtype=float32_ref>"
      ]
     },
     "execution_count": 9,
     "metadata": {},
     "output_type": "execute_result"
    }
   ],
   "source": [
    "w['saida']"
   ]
  },
  {
   "cell_type": "code",
   "execution_count": 18,
   "metadata": {},
   "outputs": [
    {
     "data": {
      "text/plain": [
       "<matplotlib.axes._subplots.AxesSubplot at 0x13a49c47320>"
      ]
     },
     "execution_count": 18,
     "metadata": {},
     "output_type": "execute_result"
    },
    {
     "data": {
      "image/png": "[encoded data removed]",
      "text/plain": [
       "<Figure size 432x288 with 1 Axes>"
      ]
     },
     "metadata": {
      "needs_background": "light"
     },
     "output_type": "display_data"
    }
   ],
   "source": [
    "distribuicao = np.random.normal(size = 500)\n",
    "#distribuicao\n",
    "import seaborn as sns\n",
    "%matplotlib inline\n",
    "sns.distplot(distribuicao)"
   ]
  },
  {
   "cell_type": "code",
   "execution_count": 19,
   "metadata": {},
   "outputs": [],
   "source": [
    "#Bias\n",
    "b = {'oculta': tf.Variable(tf.random_normal([neuronios_oculta]), name = 'b_oculta'),\n",
    "    'saida': tf.Variable(tf.random_normal([neuronios_saida]), name = 'b_saida')}"
   ]
  },
  {
   "cell_type": "code",
   "execution_count": 22,
   "metadata": {},
   "outputs": [],
   "source": [
    "xph = tf.placeholder(tf.float32, [4, neuronios_entrada], name = 'xph')\n",
    "yph = tf.placeholder(tf.float32, [4, neuronios_saida], name = 'yph')"
   ]
  },
  {
   "cell_type": "code",
   "execution_count": 34,
   "metadata": {},
   "outputs": [
    {
     "name": "stdout",
     "output_type": "stream",
     "text": [
      "WARNING:tensorflow:From C:\\Users\\fabio\\Anaconda3\\lib\\site-packages\\tensorflow\\python\\ops\\losses\\losses_impl.py:667: to_float (from tensorflow.python.ops.math_ops) is deprecated and will be removed in a future version.\n",
      "Instructions for updating:\n",
      "Use tf.cast instead.\n"
     ]
    }
   ],
   "source": [
    "camada_oculta = tf.add(tf.matmul(xph, w['oculta']), b['oculta'])\n",
    "camada_oculta_ativacao = tf.sigmoid(camada_oculta)\n",
    "camada_saida = tf.add(tf.matmul(camada_oculta_ativacao, w['saida']), b['saida'])\n",
    "camada_saida_ativacao = tf.sigmoid(camada_saida)\n",
    "erro = tf.losses.mean_squared_error(yph, camada_saida_ativacao)\n",
    "otimizador = tf.train.GradientDescentOptimizer(learning_rate = 0.3).minimize(erro)"
   ]
  },
  {
   "cell_type": "code",
   "execution_count": 20,
   "metadata": {},
   "outputs": [],
   "source": [
    "init = tf.global_variables_initializer()"
   ]
  },
  {
   "cell_type": "code",
   "execution_count": 38,
   "metadata": {},
   "outputs": [
    {
     "name": "stdout",
     "output_type": "stream",
     "text": [
      "0.10504361987113953\n",
      "0.060319021344184875\n",
      "0.05671008676290512\n",
      "0.04826522246003151\n",
      "0.033487677574157715\n",
      "0.019432757049798965\n",
      "0.011416109278798103\n",
      "0.007386988960206509\n",
      "0.005221960134804249\n",
      "0.0039421864785254\n",
      "0.00312141259200871\n",
      "0.002560175722464919\n",
      "0.0021567498333752155\n",
      "0.0018551001558080316\n",
      "0.001622295705601573\n",
      "0.001437935745343566\n",
      "0.0012887802440673113\n",
      "0.0011659187730401754\n",
      "0.0010631605982780457\n",
      "0.0009760811226442456\n",
      "0.0009014409151859581\n",
      "0.0008368237176910043\n",
      "0.0007803860935382545\n",
      "0.0007307082414627075\n",
      "0.000686672399751842\n",
      "0.0006473909597843885\n",
      "0.0006121532642282546\n",
      "0.0005803777021355927\n",
      "0.0005515902303159237\n",
      "0.0005253985291346908\n",
      "0.0005014728521928191\n",
      "0.0004795368586201221\n",
      "0.00045935960952192545\n",
      "0.00044074031757190824\n",
      "0.0004235109081491828\n",
      "0.00040752143831923604\n",
      "0.0003926483914256096\n",
      "0.00037877849536016583\n",
      "0.0003658171044662595\n",
      "0.00035367862437851727\n",
      "0.0003422902664169669\n",
      "0.0003315844223834574\n",
      "0.00032150198239833117\n",
      "0.00031199201475828886\n",
      "0.00030300827347673476\n",
      "0.00029450777219608426\n",
      "0.0002864550333470106\n",
      "0.0002788148703984916\n",
      "0.0002715575974434614\n",
      "0.0002646543434821069\n"
     ]
    }
   ],
   "source": [
    "with tf.Session() as sess:\n",
    "    sess.run(init)\n",
    "    #print(sess.run(w['oculta']))\n",
    "    #print(sess.run(w['saida']))\n",
    "    #print(sess.run(b['oculta']))\n",
    "    #print('\\n')\n",
    "    #print(sess.run(b['saida']))\n",
    "    #print(sess.run(camada_oculta, feed_dict = {xph: x}))\n",
    "    #print(sess.run(camada_oculta_ativacao, feed_dict = {xph: x}))\n",
    "    #print(sess.run(camada_saida, feed_dict = {xph: x}))\n",
    "    #print(sess.run(camada_saida_ativacao, feed_dict = {xph: x}))\n",
    "    for epocas in range(10000):\n",
    "        erro_medio = 0\n",
    "        _, custo = sess.run([otimizador, erro], feed_dict = {xph: x, yph: y})\n",
    "        if epocas % 200 == 0:\n",
    "            #print(custo)\n",
    "            erro_medio += custo / 4\n",
    "            print(erro_medio)\n",
    "    w_final, b_final = sess.run([w, b])"
   ]
  },
  {
   "cell_type": "code",
   "execution_count": 39,
   "metadata": {},
   "outputs": [
    {
     "data": {
      "text/plain": [
       "{'oculta': array([[ 5.583498  ,  5.3123264 ,  0.3493446 ],\n",
       "        [-5.1696205 , -5.7167377 ,  0.82937396]], dtype=float32),\n",
       " 'saida': array([[ 8.075105 ],\n",
       "        [-8.428207 ],\n",
       "        [-2.1198668]], dtype=float32)}"
      ]
     },
     "execution_count": 39,
     "metadata": {},
     "output_type": "execute_result"
    }
   ],
   "source": [
    "w_final"
   ]
  },
  {
   "cell_type": "code",
   "execution_count": 40,
   "metadata": {},
   "outputs": [
    {
     "data": {
      "text/plain": [
       "{'oculta': array([ 2.653279 , -2.8580413,  0.7263764], dtype=float32),\n",
       " 'saida': array([-2.1745892], dtype=float32)}"
      ]
     },
     "execution_count": 40,
     "metadata": {},
     "output_type": "execute_result"
    }
   ],
   "source": [
    "b_final"
   ]
  },
  {
   "cell_type": "code",
   "execution_count": 41,
   "metadata": {},
   "outputs": [],
   "source": [
    "#Test\n",
    "camada_oculta_teste = tf.add(tf.matmul(xph, w_final['oculta']), b_final['oculta'])\n",
    "camada_oculta_ativacao_teste = tf.sigmoid(camada_oculta_teste)\n",
    "camada_saida_teste = tf.add(tf.matmul(camada_oculta_ativacao_teste, w_final['saida']), b_final['saida'])\n",
    "camada_saida_ativacao_teste = tf.sigmoid(camada_saida_teste)"
   ]
  },
  {
   "cell_type": "code",
   "execution_count": 42,
   "metadata": {},
   "outputs": [
    {
     "name": "stdout",
     "output_type": "stream",
     "text": [
      "[[0.9702028 ]\n",
      " [0.03478149]\n",
      " [0.03095761]\n",
      " [0.96723855]]\n"
     ]
    }
   ],
   "source": [
    "with tf.Session() as sess:\n",
    "    sess.run(init)\n",
    "    print(sess.run(camada_saida_ativacao_teste, feed_dict = {xph: x}))"
   ]
  },
  {
   "cell_type": "code",
   "execution_count": null,
   "metadata": {},
   "outputs": [],
   "source": []
  }
 ],
 "metadata": {
  "kernelspec": {
   "display_name": "Python 3",
   "language": "python",
   "name": "python3"
  },
  "language_info": {
   "codemirror_mode": {
    "name": "ipython",
    "version": 3
   },
   "file_extension": ".py",
   "mimetype": "text/x-python",
   "name": "python",
   "nbconvert_exporter": "python",
   "pygments_lexer": "ipython3",
   "version": "3.7.1"
  }
 },
 "nbformat": 4,
 "nbformat_minor": 2
}
