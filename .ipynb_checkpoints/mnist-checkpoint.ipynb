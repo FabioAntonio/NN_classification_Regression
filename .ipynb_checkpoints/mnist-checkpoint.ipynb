{
 "cells": [
  {
   "cell_type": "code",
   "execution_count": 1,
   "metadata": {},
   "outputs": [],
   "source": [
    "from tensorflow.examples.tutorials.mnist import input_data"
   ]
  },
  {
   "cell_type": "code",
   "execution_count": null,
   "metadata": {},
   "outputs": [],
   "source": [
    "mnist = input_data.read_data_sets('mnist/', one_hot = True)"
   ]
  },
  {
   "cell_type": "code",
   "execution_count": 12,
   "metadata": {},
   "outputs": [
    {
     "data": {
      "text/plain": [
       "(55000, 784)"
      ]
     },
     "execution_count": 12,
     "metadata": {},
     "output_type": "execute_result"
    }
   ],
   "source": [
    "x_treinamento = mnist.train.images\n",
    "y_treinamento = mnist.train.labels\n",
    "x_teste = mnist.test.images\n",
    "y_teste = mnist.test.labels\n",
    "x_treinamento.shape"
   ]
  },
  {
   "cell_type": "code",
   "execution_count": 6,
   "metadata": {},
   "outputs": [
    {
     "data": {
      "text/plain": [
       "array([0.        , 0.        , 0.        , 0.        , 0.        ,\n",
       "       0.        , 0.        , 0.        , 0.        , 0.        ,\n",
       "       0.        , 0.        , 0.        , 0.        , 0.        ,\n",
       "       0.        , 0.        , 0.        , 0.        , 0.        ,\n",
       "       0.        , 0.        , 0.        , 0.        , 0.        ,\n",
       "       0.        , 0.        , 0.        , 0.        , 0.        ,\n",
       "       0.        , 0.        , 0.        , 0.        , 0.        ,\n",
       "       0.        , 0.        , 0.        , 0.        , 0.        ,\n",
       "       0.        , 0.        , 0.        , 0.        , 0.        ,\n",
       "       0.        , 0.        , 0.        , 0.        , 0.        ,\n",
       "       0.        , 0.        , 0.        , 0.        , 0.        ,\n",
       "       0.        , 0.        , 0.        , 0.        , 0.        ,\n",
       "       0.        , 0.        , 0.        , 0.        , 0.        ,\n",
       "       0.        , 0.        , 0.        , 0.        , 0.        ,\n",
       "       0.        , 0.        , 0.        , 0.        , 0.        ,\n",
       "       0.        , 0.        , 0.        , 0.        , 0.        ,\n",
       "       0.        , 0.        , 0.        , 0.        , 0.        ,\n",
       "       0.        , 0.        , 0.        , 0.        , 0.        ,\n",
       "       0.        , 0.        , 0.        , 0.        , 0.        ,\n",
       "       0.        , 0.        , 0.        , 0.        , 0.        ,\n",
       "       0.        , 0.        , 0.        , 0.        , 0.        ,\n",
       "       0.        , 0.        , 0.        , 0.        , 0.        ,\n",
       "       0.        , 0.        , 0.        , 0.        , 0.        ,\n",
       "       0.        , 0.        , 0.        , 0.        , 0.        ,\n",
       "       0.        , 0.        , 0.        , 0.        , 0.        ,\n",
       "       0.        , 0.        , 0.        , 0.        , 0.        ,\n",
       "       0.        , 0.        , 0.        , 0.        , 0.        ,\n",
       "       0.        , 0.        , 0.        , 0.        , 0.        ,\n",
       "       0.        , 0.        , 0.        , 0.        , 0.        ,\n",
       "       0.        , 0.        , 0.        , 0.        , 0.        ,\n",
       "       0.        , 0.        , 0.        , 0.        , 0.        ,\n",
       "       0.        , 0.        , 0.        , 0.        , 0.        ,\n",
       "       0.        , 0.        , 0.        , 0.        , 0.        ,\n",
       "       0.        , 0.        , 0.        , 0.        , 0.        ,\n",
       "       0.        , 0.        , 0.        , 0.        , 0.        ,\n",
       "       0.        , 0.        , 0.        , 0.        , 0.        ,\n",
       "       0.        , 0.        , 0.        , 0.        , 0.        ,\n",
       "       0.        , 0.        , 0.        , 0.        , 0.        ,\n",
       "       0.        , 0.        , 0.        , 0.        , 0.        ,\n",
       "       0.        , 0.        , 0.        , 0.        , 0.        ,\n",
       "       0.        , 0.        , 0.        , 0.        , 0.        ,\n",
       "       0.        , 0.        , 0.3803922 , 0.37647063, 0.3019608 ,\n",
       "       0.46274513, 0.2392157 , 0.        , 0.        , 0.        ,\n",
       "       0.        , 0.        , 0.        , 0.        , 0.        ,\n",
       "       0.        , 0.        , 0.        , 0.        , 0.        ,\n",
       "       0.        , 0.        , 0.3529412 , 0.5411765 , 0.9215687 ,\n",
       "       0.9215687 , 0.9215687 , 0.9215687 , 0.9215687 , 0.9215687 ,\n",
       "       0.9843138 , 0.9843138 , 0.9725491 , 0.9960785 , 0.9607844 ,\n",
       "       0.9215687 , 0.74509805, 0.08235294, 0.        , 0.        ,\n",
       "       0.        , 0.        , 0.        , 0.        , 0.        ,\n",
       "       0.        , 0.        , 0.        , 0.        , 0.54901963,\n",
       "       0.9843138 , 0.9960785 , 0.9960785 , 0.9960785 , 0.9960785 ,\n",
       "       0.9960785 , 0.9960785 , 0.9960785 , 0.9960785 , 0.9960785 ,\n",
       "       0.9960785 , 0.9960785 , 0.9960785 , 0.9960785 , 0.9960785 ,\n",
       "       0.7411765 , 0.09019608, 0.        , 0.        , 0.        ,\n",
       "       0.        , 0.        , 0.        , 0.        , 0.        ,\n",
       "       0.        , 0.        , 0.8862746 , 0.9960785 , 0.81568635,\n",
       "       0.7803922 , 0.7803922 , 0.7803922 , 0.7803922 , 0.54509807,\n",
       "       0.2392157 , 0.2392157 , 0.2392157 , 0.2392157 , 0.2392157 ,\n",
       "       0.5019608 , 0.8705883 , 0.9960785 , 0.9960785 , 0.7411765 ,\n",
       "       0.08235294, 0.        , 0.        , 0.        , 0.        ,\n",
       "       0.        , 0.        , 0.        , 0.        , 0.        ,\n",
       "       0.14901961, 0.32156864, 0.0509804 , 0.        , 0.        ,\n",
       "       0.        , 0.        , 0.        , 0.        , 0.        ,\n",
       "       0.        , 0.        , 0.        , 0.        , 0.13333334,\n",
       "       0.8352942 , 0.9960785 , 0.9960785 , 0.45098042, 0.        ,\n",
       "       0.        , 0.        , 0.        , 0.        , 0.        ,\n",
       "       0.        , 0.        , 0.        , 0.        , 0.        ,\n",
       "       0.        , 0.        , 0.        , 0.        , 0.        ,\n",
       "       0.        , 0.        , 0.        , 0.        , 0.        ,\n",
       "       0.        , 0.        , 0.        , 0.32941177, 0.9960785 ,\n",
       "       0.9960785 , 0.9176471 , 0.        , 0.        , 0.        ,\n",
       "       0.        , 0.        , 0.        , 0.        , 0.        ,\n",
       "       0.        , 0.        , 0.        , 0.        , 0.        ,\n",
       "       0.        , 0.        , 0.        , 0.        , 0.        ,\n",
       "       0.        , 0.        , 0.        , 0.        , 0.        ,\n",
       "       0.        , 0.32941177, 0.9960785 , 0.9960785 , 0.9176471 ,\n",
       "       0.        , 0.        , 0.        , 0.        , 0.        ,\n",
       "       0.        , 0.        , 0.        , 0.        , 0.        ,\n",
       "       0.        , 0.        , 0.        , 0.        , 0.        ,\n",
       "       0.        , 0.        , 0.        , 0.        , 0.        ,\n",
       "       0.        , 0.        , 0.        , 0.4156863 , 0.6156863 ,\n",
       "       0.9960785 , 0.9960785 , 0.95294124, 0.20000002, 0.        ,\n",
       "       0.        , 0.        , 0.        , 0.        , 0.        ,\n",
       "       0.        , 0.        , 0.        , 0.        , 0.        ,\n",
       "       0.        , 0.        , 0.        , 0.        , 0.        ,\n",
       "       0.        , 0.09803922, 0.45882356, 0.8941177 , 0.8941177 ,\n",
       "       0.8941177 , 0.9921569 , 0.9960785 , 0.9960785 , 0.9960785 ,\n",
       "       0.9960785 , 0.94117653, 0.        , 0.        , 0.        ,\n",
       "       0.        , 0.        , 0.        , 0.        , 0.        ,\n",
       "       0.        , 0.        , 0.        , 0.        , 0.        ,\n",
       "       0.        , 0.        , 0.26666668, 0.4666667 , 0.86274517,\n",
       "       0.9960785 , 0.9960785 , 0.9960785 , 0.9960785 , 0.9960785 ,\n",
       "       0.9960785 , 0.9960785 , 0.9960785 , 0.9960785 , 0.5568628 ,\n",
       "       0.        , 0.        , 0.        , 0.        , 0.        ,\n",
       "       0.        , 0.        , 0.        , 0.        , 0.        ,\n",
       "       0.        , 0.        , 0.        , 0.14509805, 0.73333335,\n",
       "       0.9921569 , 0.9960785 , 0.9960785 , 0.9960785 , 0.8745099 ,\n",
       "       0.8078432 , 0.8078432 , 0.29411766, 0.26666668, 0.8431373 ,\n",
       "       0.9960785 , 0.9960785 , 0.45882356, 0.        , 0.        ,\n",
       "       0.        , 0.        , 0.        , 0.        , 0.        ,\n",
       "       0.        , 0.        , 0.        , 0.        , 0.        ,\n",
       "       0.4431373 , 0.8588236 , 0.9960785 , 0.9490197 , 0.89019614,\n",
       "       0.45098042, 0.34901962, 0.12156864, 0.        , 0.        ,\n",
       "       0.        , 0.        , 0.7843138 , 0.9960785 , 0.9450981 ,\n",
       "       0.16078432, 0.        , 0.        , 0.        , 0.        ,\n",
       "       0.        , 0.        , 0.        , 0.        , 0.        ,\n",
       "       0.        , 0.        , 0.        , 0.6627451 , 0.9960785 ,\n",
       "       0.6901961 , 0.24313727, 0.        , 0.        , 0.        ,\n",
       "       0.        , 0.        , 0.        , 0.        , 0.18823531,\n",
       "       0.9058824 , 0.9960785 , 0.9176471 , 0.        , 0.        ,\n",
       "       0.        , 0.        , 0.        , 0.        , 0.        ,\n",
       "       0.        , 0.        , 0.        , 0.        , 0.        ,\n",
       "       0.        , 0.07058824, 0.48627454, 0.        , 0.        ,\n",
       "       0.        , 0.        , 0.        , 0.        , 0.        ,\n",
       "       0.        , 0.        , 0.32941177, 0.9960785 , 0.9960785 ,\n",
       "       0.6509804 , 0.        , 0.        , 0.        , 0.        ,\n",
       "       0.        , 0.        , 0.        , 0.        , 0.        ,\n",
       "       0.        , 0.        , 0.        , 0.        , 0.        ,\n",
       "       0.        , 0.        , 0.        , 0.        , 0.        ,\n",
       "       0.        , 0.        , 0.        , 0.        , 0.        ,\n",
       "       0.54509807, 0.9960785 , 0.9333334 , 0.22352943, 0.        ,\n",
       "       0.        , 0.        , 0.        , 0.        , 0.        ,\n",
       "       0.        , 0.        , 0.        , 0.        , 0.        ,\n",
       "       0.        , 0.        , 0.        , 0.        , 0.        ,\n",
       "       0.        , 0.        , 0.        , 0.        , 0.        ,\n",
       "       0.        , 0.        , 0.8235295 , 0.9803922 , 0.9960785 ,\n",
       "       0.65882355, 0.        , 0.        , 0.        , 0.        ,\n",
       "       0.        , 0.        , 0.        , 0.        , 0.        ,\n",
       "       0.        , 0.        , 0.        , 0.        , 0.        ,\n",
       "       0.        , 0.        , 0.        , 0.        , 0.        ,\n",
       "       0.        , 0.        , 0.        , 0.        , 0.        ,\n",
       "       0.9490197 , 0.9960785 , 0.93725497, 0.22352943, 0.        ,\n",
       "       0.        , 0.        , 0.        , 0.        , 0.        ,\n",
       "       0.        , 0.        , 0.        , 0.        , 0.        ,\n",
       "       0.        , 0.        , 0.        , 0.        , 0.        ,\n",
       "       0.        , 0.        , 0.        , 0.        , 0.        ,\n",
       "       0.        , 0.        , 0.34901962, 0.9843138 , 0.9450981 ,\n",
       "       0.3372549 , 0.        , 0.        , 0.        , 0.        ,\n",
       "       0.        , 0.        , 0.        , 0.        , 0.        ,\n",
       "       0.        , 0.        , 0.        , 0.        , 0.        ,\n",
       "       0.        , 0.        , 0.        , 0.        , 0.        ,\n",
       "       0.        , 0.        , 0.        , 0.        , 0.01960784,\n",
       "       0.8078432 , 0.96470594, 0.6156863 , 0.        , 0.        ,\n",
       "       0.        , 0.        , 0.        , 0.        , 0.        ,\n",
       "       0.        , 0.        , 0.        , 0.        , 0.        ,\n",
       "       0.        , 0.        , 0.        , 0.        , 0.        ,\n",
       "       0.        , 0.        , 0.        , 0.        , 0.        ,\n",
       "       0.        , 0.        , 0.01568628, 0.45882356, 0.27058825,\n",
       "       0.        , 0.        , 0.        , 0.        , 0.        ,\n",
       "       0.        , 0.        , 0.        , 0.        , 0.        ,\n",
       "       0.        , 0.        , 0.        , 0.        , 0.        ,\n",
       "       0.        , 0.        , 0.        , 0.        , 0.        ,\n",
       "       0.        , 0.        , 0.        , 0.        , 0.        ,\n",
       "       0.        , 0.        , 0.        , 0.        , 0.        ,\n",
       "       0.        , 0.        , 0.        , 0.        , 0.        ,\n",
       "       0.        , 0.        , 0.        , 0.        ], dtype=float32)"
      ]
     },
     "execution_count": 6,
     "metadata": {},
     "output_type": "execute_result"
    }
   ],
   "source": [
    "x_treinamento[0]"
   ]
  },
  {
   "cell_type": "code",
   "execution_count": 8,
   "metadata": {},
   "outputs": [
    {
     "data": {
      "text/plain": [
       "(55000, 10)"
      ]
     },
     "execution_count": 8,
     "metadata": {},
     "output_type": "execute_result"
    }
   ],
   "source": [
    "y_treinamento.shape"
   ]
  },
  {
   "cell_type": "code",
   "execution_count": 9,
   "metadata": {},
   "outputs": [
    {
     "data": {
      "text/plain": [
       "array([[0., 0., 0., ..., 1., 0., 0.],\n",
       "       [0., 0., 0., ..., 0., 0., 0.],\n",
       "       [0., 0., 0., ..., 0., 0., 0.],\n",
       "       ...,\n",
       "       [0., 0., 0., ..., 0., 0., 0.],\n",
       "       [0., 0., 0., ..., 0., 0., 0.],\n",
       "       [0., 0., 0., ..., 0., 1., 0.]])"
      ]
     },
     "execution_count": 9,
     "metadata": {},
     "output_type": "execute_result"
    }
   ],
   "source": [
    "y_treinamento"
   ]
  },
  {
   "cell_type": "code",
   "execution_count": 10,
   "metadata": {},
   "outputs": [
    {
     "data": {
      "text/plain": [
       "array([0., 0., 0., 0., 0., 0., 0., 1., 0., 0.])"
      ]
     },
     "execution_count": 10,
     "metadata": {},
     "output_type": "execute_result"
    }
   ],
   "source": [
    "y_treinamento[0]"
   ]
  },
  {
   "cell_type": "code",
   "execution_count": 13,
   "metadata": {},
   "outputs": [
    {
     "data": {
      "text/plain": [
       "(10000, 784)"
      ]
     },
     "execution_count": 13,
     "metadata": {},
     "output_type": "execute_result"
    }
   ],
   "source": [
    "x_teste.shape"
   ]
  },
  {
   "cell_type": "code",
   "execution_count": 19,
   "metadata": {},
   "outputs": [
    {
     "data": {
      "text/plain": [
       "Text(0.5, 1.0, 'Classe: 3')"
      ]
     },
     "execution_count": 19,
     "metadata": {},
     "output_type": "execute_result"
    },
    {
     "data": {
      "image/png": "[encoded data removed]",
      "text/plain": [
       "<Figure size 432x288 with 1 Axes>"
      ]
     },
     "metadata": {
      "needs_background": "light"
     },
     "output_type": "display_data"
    }
   ],
   "source": [
    "import matplotlib.pyplot as plt\n",
    "import numpy as np\n",
    "%matplotlib inline\n",
    "plt.imshow(x_treinamento[102].reshape((28, 28)), cmap = 'gray')\n",
    "plt.title('Classe: ' + str(np.argmax(y_treinamento[102])))"
   ]
  },
  {
   "cell_type": "code",
   "execution_count": 21,
   "metadata": {},
   "outputs": [
    {
     "data": {
      "text/plain": [
       "(64, 784)"
      ]
     },
     "execution_count": 21,
     "metadata": {},
     "output_type": "execute_result"
    }
   ],
   "source": [
    "x_batch, y_batch = mnist.train.next_batch(64)\n",
    "x_batch.shape"
   ]
  },
  {
   "cell_type": "code",
   "execution_count": 22,
   "metadata": {},
   "outputs": [
    {
     "data": {
      "text/plain": [
       "784"
      ]
     },
     "execution_count": 22,
     "metadata": {},
     "output_type": "execute_result"
    }
   ],
   "source": [
    "#Forecasters Attributes\n",
    "neuronios_entrada = x_treinamento.shape[1]\n",
    "neuronios_entrada"
   ]
  },
  {
   "cell_type": "code",
   "execution_count": 23,
   "metadata": {},
   "outputs": [
    {
     "data": {
      "text/plain": [
       "397"
      ]
     },
     "execution_count": 23,
     "metadata": {},
     "output_type": "execute_result"
    }
   ],
   "source": [
    "#Neurons\n",
    "neuronios_oculta1 = int((x_treinamento.shape[1] + y_treinamento.shape[1]) / 2)\n",
    "neuronios_oculta1"
   ]
  },
  {
   "cell_type": "code",
   "execution_count": 24,
   "metadata": {},
   "outputs": [
    {
     "data": {
      "text/plain": [
       "10"
      ]
     },
     "execution_count": 24,
     "metadata": {},
     "output_type": "execute_result"
    }
   ],
   "source": [
    "#Neurons\n",
    "neuronios_oculta2 = neuronios_oculta1\n",
    "neuronios_oculta3 = neuronios_oculta1\n",
    "neuronios_saida = y_treinamento.shape[1]\n",
    "neuronios_saida"
   ]
  },
  {
   "cell_type": "code",
   "execution_count": 25,
   "metadata": {},
   "outputs": [],
   "source": [
    "import tensorflow as tf"
   ]
  },
  {
   "cell_type": "code",
   "execution_count": 26,
   "metadata": {},
   "outputs": [
    {
     "name": "stdout",
     "output_type": "stream",
     "text": [
      "WARNING:tensorflow:From C:\\Users\\fabio\\Anaconda3\\lib\\site-packages\\tensorflow\\python\\framework\\op_def_library.py:263: colocate_with (from tensorflow.python.framework.ops) is deprecated and will be removed in a future version.\n",
      "Instructions for updating:\n",
      "Colocations handled automatically by placer.\n"
     ]
    }
   ],
   "source": [
    "#Weights\n",
    "w = {'oculta1': tf.Variable(tf.random_normal([neuronios_entrada, neuronios_oculta1])),\n",
    "     'oculta2': tf.Variable(tf.random_normal([neuronios_oculta1, neuronios_oculta2])),\n",
    "     'oculta3': tf.Variable(tf.random_normal([neuronios_oculta2, neuronios_oculta3])),\n",
    "     'saida':   tf.Variable(tf.random_normal([neuronios_oculta3, neuronios_saida]))}"
   ]
  },
  {
   "cell_type": "code",
   "execution_count": 28,
   "metadata": {},
   "outputs": [],
   "source": [
    "#Bias\n",
    "b = {'oculta1': tf.Variable(tf.random_normal([neuronios_oculta1])),\n",
    "     'oculta2': tf.Variable(tf.random_normal([neuronios_oculta2])),\n",
    "     'oculta3': tf.Variable(tf.random_normal([neuronios_oculta3])),\n",
    "     'saida': tf.Variable(tf.random_normal([neuronios_saida]))}"
   ]
  },
  {
   "cell_type": "code",
   "execution_count": 29,
   "metadata": {},
   "outputs": [],
   "source": [
    "#Placeholders\n",
    "xph = tf.placeholder('float', [None, neuronios_entrada])\n",
    "yph = tf.placeholder('float', [None, neuronios_saida])"
   ]
  },
  {
   "cell_type": "code",
   "execution_count": 35,
   "metadata": {},
   "outputs": [],
   "source": [
    "def mlp(x, w, b):\n",
    "    camada_oculta1 = tf.nn.relu(tf.add(tf.matmul(x, w['oculta1']), b['oculta1']))\n",
    "    camada_oculta2 = tf.nn.relu(tf.add(tf.matmul(camada_oculta1, w['oculta2']), b['oculta2']))\n",
    "    camada_oculta3 = tf.nn.relu(tf.add(tf.matmul(camada_oculta2, w['oculta3']), b['oculta3']))\n",
    "    camada_saida = tf.add(tf.matmul(camada_oculta3, w['saida']), b['saida'])\n",
    "    return camada_saida"
   ]
  },
  {
   "cell_type": "code",
   "execution_count": 36,
   "metadata": {},
   "outputs": [],
   "source": [
    "#Model\n",
    "modelo = mlp(xph, w, b)\n",
    "erro = tf.reduce_mean(tf.nn.softmax_cross_entropy_with_logits_v2(logits = modelo, labels = yph))\n",
    "otimizador = tf.train.AdamOptimizer(learning_rate = 0.0001).minimize(erro)"
   ]
  },
  {
   "cell_type": "code",
   "execution_count": 49,
   "metadata": {},
   "outputs": [],
   "source": [
    "previsoes = tf.nn.softmax(modelo)\n",
    "previsoes_corretas = tf.equal(tf.argmax(previsoes, 1), tf.argmax(yph, 1))\n",
    "taxa_acerto = tf.reduce_mean(tf.cast(previsoes_corretas, tf.float32))"
   ]
  },
  {
   "cell_type": "code",
   "execution_count": 54,
   "metadata": {},
   "outputs": [
    {
     "name": "stdout",
     "output_type": "stream",
     "text": [
      "Epoch: 1 Error:29088.64 Accuracy: [0.1015625]\n",
      "Epoch: 101 Error:11436.285 Accuracy: [0.2421875]\n",
      "Epoch: 201 Error:6083.291 Accuracy: [0.453125]\n",
      "Epoch: 301 Error:4506.525 Accuracy: [0.5234375]\n",
      "Epoch: 401 Error:3994.7305 Accuracy: [0.53125]\n",
      "Epoch: 501 Error:3691.8442 Accuracy: [0.6328125]\n",
      "Epoch: 601 Error:2534.6318 Accuracy: [0.6953125]\n",
      "Epoch: 701 Error:3045.8696 Accuracy: [0.6796875]\n",
      "Epoch: 801 Error:1864.3873 Accuracy: [0.734375]\n",
      "Epoch: 901 Error:1574.5846 Accuracy: [0.78125]\n",
      "Epoch: 1001 Error:2010.5985 Accuracy: [0.765625]\n",
      "Epoch: 1101 Error:2123.6753 Accuracy: [0.7890625]\n",
      "Epoch: 1201 Error:1545.0107 Accuracy: [0.7890625]\n",
      "Epoch: 1301 Error:2051.5962 Accuracy: [0.7578125]\n",
      "Epoch: 1401 Error:1152.8289 Accuracy: [0.84375]\n",
      "Epoch: 1501 Error:1504.2078 Accuracy: [0.8203125]\n",
      "Epoch: 1601 Error:1363.9788 Accuracy: [0.8359375]\n",
      "Epoch: 1701 Error:1467.0771 Accuracy: [0.828125]\n",
      "Epoch: 1801 Error:1120.8427 Accuracy: [0.8359375]\n",
      "Epoch: 1901 Error:1272.2765 Accuracy: [0.8359375]\n",
      "Epoch: 2001 Error:825.0231 Accuracy: [0.859375]\n",
      "Epoch: 2101 Error:1062.8645 Accuracy: [0.859375]\n",
      "Epoch: 2201 Error:1589.769 Accuracy: [0.8046875]\n",
      "Epoch: 2301 Error:1394.3391 Accuracy: [0.828125]\n",
      "Epoch: 2401 Error:369.49475 Accuracy: [0.9140625]\n",
      "Epoch: 2501 Error:2044.1257 Accuracy: [0.8359375]\n",
      "Epoch: 2601 Error:526.5851 Accuracy: [0.8828125]\n",
      "Epoch: 2701 Error:730.4859 Accuracy: [0.90625]\n",
      "Epoch: 2801 Error:1022.7391 Accuracy: [0.84375]\n",
      "Epoch: 2901 Error:967.43616 Accuracy: [0.8671875]\n",
      "Epoch: 3001 Error:495.39343 Accuracy: [0.90625]\n",
      "Epoch: 3101 Error:557.5443 Accuracy: [0.8828125]\n",
      "Epoch: 3201 Error:619.0596 Accuracy: [0.9140625]\n",
      "Epoch: 3301 Error:1178.4233 Accuracy: [0.828125]\n",
      "Epoch: 3401 Error:1013.54346 Accuracy: [0.8828125]\n",
      "Epoch: 3501 Error:588.68933 Accuracy: [0.8515625]\n",
      "Epoch: 3601 Error:1198.2433 Accuracy: [0.859375]\n",
      "Epoch: 3701 Error:880.5283 Accuracy: [0.8671875]\n",
      "Epoch: 3801 Error:393.30508 Accuracy: [0.90625]\n",
      "Epoch: 3901 Error:557.6652 Accuracy: [0.8984375]\n",
      "Epoch: 4001 Error:329.06165 Accuracy: [0.921875]\n",
      "Epoch: 4101 Error:807.5757 Accuracy: [0.875]\n",
      "Epoch: 4201 Error:959.04956 Accuracy: [0.90625]\n",
      "Epoch: 4301 Error:832.1985 Accuracy: [0.90625]\n",
      "Epoch: 4401 Error:359.44202 Accuracy: [0.890625]\n",
      "Epoch: 4501 Error:626.07745 Accuracy: [0.921875]\n",
      "Epoch: 4601 Error:881.57886 Accuracy: [0.875]\n",
      "Epoch: 4701 Error:413.65656 Accuracy: [0.8984375]\n",
      "Epoch: 4801 Error:917.2414 Accuracy: [0.8984375]\n",
      "Epoch: 4901 Error:655.2565 Accuracy: [0.890625]\n",
      "Epoch: 5001 Error:563.4011 Accuracy: [0.8671875]\n",
      "Epoch: 5101 Error:601.38 Accuracy: [0.8984375]\n",
      "Epoch: 5201 Error:428.01398 Accuracy: [0.9375]\n",
      "Epoch: 5301 Error:606.63855 Accuracy: [0.921875]\n",
      "Epoch: 5401 Error:531.7394 Accuracy: [0.90625]\n",
      "Epoch: 5501 Error:405.33618 Accuracy: [0.921875]\n",
      "Epoch: 5601 Error:556.6696 Accuracy: [0.8984375]\n",
      "Epoch: 5701 Error:280.69727 Accuracy: [0.921875]\n",
      "Epoch: 5801 Error:289.0447 Accuracy: [0.921875]\n",
      "Epoch: 5901 Error:501.92334 Accuracy: [0.921875]\n",
      "Epoch: 6001 Error:614.6349 Accuracy: [0.890625]\n",
      "Epoch: 6101 Error:229.91504 Accuracy: [0.9375]\n",
      "Epoch: 6201 Error:202.1481 Accuracy: [0.953125]\n",
      "Epoch: 6301 Error:500.95395 Accuracy: [0.8984375]\n",
      "Epoch: 6401 Error:330.35266 Accuracy: [0.953125]\n",
      "Epoch: 6501 Error:357.4996 Accuracy: [0.921875]\n",
      "Epoch: 6601 Error:639.78 Accuracy: [0.875]\n",
      "Epoch: 6701 Error:480.93994 Accuracy: [0.9296875]\n",
      "Epoch: 6801 Error:365.2735 Accuracy: [0.9140625]\n",
      "Epoch: 6901 Error:372.9706 Accuracy: [0.9375]\n",
      "Epoch: 7001 Error:405.0193 Accuracy: [0.9375]\n",
      "Epoch: 7101 Error:103.12511 Accuracy: [0.96875]\n",
      "Epoch: 7201 Error:294.60083 Accuracy: [0.921875]\n",
      "Epoch: 7301 Error:277.4313 Accuracy: [0.953125]\n",
      "Epoch: 7401 Error:266.13446 Accuracy: [0.9453125]\n",
      "Epoch: 7501 Error:383.26892 Accuracy: [0.9375]\n",
      "Epoch: 7601 Error:314.5887 Accuracy: [0.9140625]\n",
      "Epoch: 7701 Error:313.14642 Accuracy: [0.9375]\n",
      "Epoch: 7801 Error:166.78836 Accuracy: [0.9765625]\n",
      "Epoch: 7901 Error:143.97775 Accuracy: [0.9453125]\n",
      "Epoch: 8001 Error:219.96921 Accuracy: [0.96875]\n",
      "Epoch: 8101 Error:332.34515 Accuracy: [0.9375]\n",
      "Epoch: 8201 Error:317.41138 Accuracy: [0.9453125]\n",
      "Epoch: 8301 Error:366.77954 Accuracy: [0.90625]\n",
      "Epoch: 8401 Error:171.4201 Accuracy: [0.953125]\n",
      "Epoch: 8501 Error:198.38351 Accuracy: [0.9296875]\n",
      "Epoch: 8601 Error:413.47556 Accuracy: [0.921875]\n",
      "Epoch: 8701 Error:512.7748 Accuracy: [0.9375]\n",
      "Epoch: 8801 Error:64.28455 Accuracy: [0.984375]\n",
      "Epoch: 8901 Error:283.4706 Accuracy: [0.9609375]\n",
      "Epoch: 9001 Error:489.06622 Accuracy: [0.9296875]\n",
      "Epoch: 9101 Error:139.24667 Accuracy: [0.9453125]\n",
      "Epoch: 9201 Error:45.778015 Accuracy: [0.96875]\n",
      "Epoch: 9301 Error:159.91211 Accuracy: [0.9609375]\n",
      "Epoch: 9401 Error:33.1994 Accuracy: [0.9921875]\n",
      "Epoch: 9501 Error:194.10614 Accuracy: [0.953125]\n",
      "Epoch: 9601 Error:184.50179 Accuracy: [0.9765625]\n",
      "Epoch: 9701 Error:271.3275 Accuracy: [0.96875]\n",
      "Epoch: 9801 Error:502.4536 Accuracy: [0.9609375]\n",
      "Epoch: 9901 Error:131.92612 Accuracy: [0.9765625]\n",
      "Training Complete!\n",
      "0.9147\n"
     ]
    }
   ],
   "source": [
    "with tf.Session() as sess:\n",
    "    sess.run(tf.global_variables_initializer())\n",
    "    for epoca in range(10000):\n",
    "        x_batch, y_batch = mnist.train.next_batch(128)\n",
    "        _, custo = sess.run([otimizador, erro], feed_dict = {xph: x_batch, yph: y_batch})\n",
    "        if epoca % 100 == 0:\n",
    "            acc = sess.run([taxa_acerto], feed_dict = {xph: x_batch, yph: y_batch})\n",
    "            print('Epoch: ' + str((epoca + 1)) + ' Error:' + str(custo) + ' Accuracy: ' + str(acc))\n",
    "            \n",
    "    print('Training Complete!')\n",
    "    print(sess.run(taxa_acerto, feed_dict = {xph: x_teste, yph: y_teste}))"
   ]
  },
  {
   "cell_type": "code",
   "execution_count": 46,
   "metadata": {},
   "outputs": [
    {
     "data": {
      "text/plain": [
       "array([[0., 0., 0., ..., 1., 0., 0.],\n",
       "       [0., 0., 1., ..., 0., 0., 0.],\n",
       "       [0., 1., 0., ..., 0., 0., 0.],\n",
       "       ...,\n",
       "       [0., 0., 0., ..., 0., 0., 0.],\n",
       "       [0., 0., 0., ..., 0., 0., 0.],\n",
       "       [0., 0., 0., ..., 0., 0., 0.]])"
      ]
     },
     "execution_count": 46,
     "metadata": {},
     "output_type": "execute_result"
    }
   ],
   "source": [
    "y_teste"
   ]
  },
  {
   "cell_type": "code",
   "execution_count": null,
   "metadata": {},
   "outputs": [],
   "source": []
  }
 ],
 "metadata": {
  "kernelspec": {
   "display_name": "Python 3",
   "language": "python",
   "name": "python3"
  },
  "language_info": {
   "codemirror_mode": {
    "name": "ipython",
    "version": 3
   },
   "file_extension": ".py",
   "mimetype": "text/x-python",
   "name": "python",
   "nbconvert_exporter": "python",
   "pygments_lexer": "ipython3",
   "version": "3.7.1"
  }
 },
 "nbformat": 4,
 "nbformat_minor": 2
}
